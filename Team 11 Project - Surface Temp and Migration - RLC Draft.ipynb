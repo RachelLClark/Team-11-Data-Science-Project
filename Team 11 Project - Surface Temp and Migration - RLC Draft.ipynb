{
 "cells": [
  {
   "cell_type": "code",
   "execution_count": null,
   "metadata": {
    "id": "6Cst-Gx8oxD4"
   },
   "outputs": [],
   "source": [
    "import numpy as np\n",
    "import pandas as pd\n",
    "import geopandas as gpd\n",
    "import matplotlib.pyplot as plt\n",
    "import mapclassify\n",
    "import seaborn as sns\n",
    "from mpl_toolkits.basemap import Basemap\n",
    "from matplotlib.colors import Normalize\n",
    "from datetime import datetime\n",
    "import plotly.express as px\n",
    "import plotly.graph_objects as go"
   ]
  },
  {
   "cell_type": "code",
   "execution_count": null,
   "metadata": {},
   "outputs": [],
   "source": [
    "px.set_mapbox_access_token('pk.eyJ1IjoicmFjaGVsY2xhcmsiLCJhIjoiY2xmaWIwamR3MWV1ejQzbThzbXA3Mnk1OCJ9.qT_XvaHKFUdh-MESwYgnSA')"
   ]
  },
  {
   "cell_type": "code",
   "execution_count": null,
   "metadata": {},
   "outputs": [],
   "source": [
    "MAPBOX_ACCESS_TOKEN = 'pk.eyJ1IjoicmFjaGVsY2xhcmsiLCJhIjoiY2xmaWIwamR3MWV1ejQzbThzbXA3Mnk1OCJ9.qT_XvaHKFUdh-MESwYgnSA'"
   ]
  },
  {
   "cell_type": "code",
   "execution_count": null,
   "metadata": {
    "colab": {
     "base_uri": "https://localhost:8080/"
    },
    "id": "h70-VNsBlTpg",
    "outputId": "29b9c95f-468c-4891-aa5a-a4646e76a613"
   },
   "outputs": [],
   "source": [
    "temperature = pd.read_csv('global_temp_data.csv', encoding='ISO-8859-1')\n",
    "temperature.replace(to_replace=[-9999, -99], value=np.nan, inplace=True)\n",
    "temperature.fillna(temperature.mean(), inplace=True)\n",
    "temperature = temperature.round(2)"
   ]
  },
  {
   "cell_type": "markdown",
   "metadata": {
    "id": "5jFecePEqoZC"
   },
   "source": [
    "# New Section"
   ]
  },
  {
   "cell_type": "code",
   "execution_count": null,
   "metadata": {
    "id": "vJ5mJG-A0jMf"
   },
   "outputs": [],
   "source": [
    "temperature_numeric = temperature.select_dtypes(include=[np.number])\n",
    "temperature_numeric = temperature_numeric[(temperature_numeric > -2) & (temperature_numeric < 2)]"
   ]
  },
  {
   "cell_type": "code",
   "execution_count": null,
   "metadata": {
    "colab": {
     "base_uri": "https://localhost:8080/",
     "height": 424
    },
    "id": "bbXvHnz_lw8q",
    "outputId": "4a07c755-533a-4bff-aa43-fdc7f40a7e1b"
   },
   "outputs": [],
   "source": [
    "temperature"
   ]
  },
  {
   "cell_type": "code",
   "execution_count": null,
   "metadata": {
    "id": "JIVxF5QBlxpr"
   },
   "outputs": [],
   "source": [
    "world = gpd.read_file(gpd.datasets.get_path('naturalearth_lowres'))"
   ]
  },
  {
   "cell_type": "code",
   "execution_count": null,
   "metadata": {
    "id": "rGt8YS3lvYEi"
   },
   "outputs": [],
   "source": [
    "temperature['name'] = temperature['Country'].str.title()\n",
    "merged = world.merge(temperature, on='name')\n"
   ]
  },
  {
   "cell_type": "code",
   "execution_count": null,
   "metadata": {
    "id": "cteylwOgw6W-"
   },
   "outputs": [],
   "source": [
    "melted = merged.melt(\n",
    "    id_vars=['Continent', 'Country', 'Subregion', 'geometry'],\n",
    "    var_name='year',\n",
    "    value_name='temp_anomaly'\n",
    ")"
   ]
  },
  {
   "cell_type": "code",
   "execution_count": null,
   "metadata": {
    "id": "6BVi30rrzGaZ"
   },
   "outputs": [],
   "source": [
    "melted['temp_anomaly'] = pd.to_numeric(melted['temp_anomaly'], errors='coerce')"
   ]
  },
  {
   "cell_type": "code",
   "execution_count": null,
   "metadata": {
    "colab": {
     "base_uri": "https://localhost:8080/",
     "height": 453
    },
    "id": "yhh2F7VKxLVq",
    "outputId": "aa190570-0199-476e-9f98-303472493a75"
   },
   "outputs": [],
   "source": [
    "ax = melted.plot(column='temp_anomaly', cmap='viridis_r', figsize=(12, 10), scheme='quantiles', legend=True)\n",
    "ax.set_title('Global Temperature Anomalies')\n",
    "plt.show()"
   ]
  },
  {
   "cell_type": "code",
   "execution_count": null,
   "metadata": {
    "colab": {
     "base_uri": "https://localhost:8080/",
     "height": 424
    },
    "id": "Gye8p3fqtKoR",
    "outputId": "bbfe4bd3-4f47-4e22-a2e4-f27198f5553f"
   },
   "outputs": [],
   "source": [
    "emperor = pd.read_csv('EmperorMigrationRough.csv')\n",
    "emperor.loc[emperor[\"Identifier\"] != \"J91_2003_YK3_5845\", \"Identifier\"] = \"J91_2003_YK3_5845\"\n",
    "emperor['Name'] = emperor['Name'].replace('Chen canagica', 'Emperor Goose')\n",
    "emperor"
   ]
  },
  {
   "cell_type": "code",
   "execution_count": null,
   "metadata": {},
   "outputs": [],
   "source": [
    "hawk = pd.read_csv('HawkMigrationRough.csv')\n",
    "hawk.loc[hawk[\"Identifier\"] != \"71526a\", \"Identifier\"] = \"71526a\"\n",
    "hawk['Name'] = hawk['Name'].replace('Aquila chrysaetos', 'Golden Eagle')\n",
    "hawk"
   ]
  },
  {
   "cell_type": "code",
   "execution_count": null,
   "metadata": {},
   "outputs": [],
   "source": [
    "puffin=pd.read_csv('PuffinMigrationRough.csv')\n",
    "puffin.loc[puffin[\"Identifier\"] != \"z\", \"Identifier\"] = 3\n",
    "puffin['Name'] = puffin['Name'].replace('Fratercula arctica', 'Atlantic Puffin')\n",
    "puffin"
   ]
  },
  {
   "cell_type": "code",
   "execution_count": null,
   "metadata": {},
   "outputs": [],
   "source": [
    "herring=pd.read_csv('HerringMigrationRough.csv')\n",
    "herring.loc[herring[\"Identifier\"] != \"z\", \"Identifier\"] = 4\n",
    "herring['Name'] = herring['Name'].replace('Larus argentatus', 'European Herring Gull')\n",
    "herring"
   ]
  },
  {
   "cell_type": "code",
   "execution_count": null,
   "metadata": {},
   "outputs": [],
   "source": [
    "loon=pd.read_csv('RedLoonMigrationRough.csv')\n",
    "loon.loc[loon[\"Identifier\"] != \"z\", \"Identifier\"] = 5\n",
    "loon['Name'] = loon['Name'].replace('Gavia stellata', 'Red Throated Loon')\n",
    "loon"
   ]
  },
  {
   "cell_type": "code",
   "execution_count": null,
   "metadata": {},
   "outputs": [],
   "source": [
    "swan=pd.read_csv('SwanMigrationRough.csv')\n",
    "swan.loc[swan[\"Identifier\"] != \"z\", \"Identifier\"] = 6\n",
    "swan['Name'] = swan['Name'].replace('Cygnus columbianus', 'Tundra Swan')\n",
    "swan"
   ]
  },
  {
   "cell_type": "code",
   "execution_count": null,
   "metadata": {},
   "outputs": [],
   "source": [
    "birds = pd.concat([hawk.assign(source=1), emperor.assign(source=2), puffin.assign(source=3), herring.assign(source=4), loon.assign(source=5), swan.assign(source=6)], keys=[0, 1, 2, 3, 4, 5], ignore_index=True)\n",
    "birds['Identifier'] = birds['Identifier'].replace({'71526a': 1, 'J91_2003_YK3_5845': 2})\n",
    "birds"
   ]
  },
  {
   "cell_type": "code",
   "execution_count": null,
   "metadata": {},
   "outputs": [],
   "source": [
    "birds['Timestamp'] = pd.to_datetime(birds['Timestamp'])\n",
    "birds.sort_values('Timestamp', inplace=True)  # make sure data is sorted by time\n",
    "opacity = birds['Timestamp'].dt.hour / 24  # calculate opacity values\n",
    "birds"
   ]
  },
  {
   "cell_type": "code",
   "execution_count": null,
   "metadata": {
    "scrolled": true
   },
   "outputs": [],
   "source": [
    "fig = px.scatter_mapbox(birds, lat=\"Lat\", lon=\"Long\", color=\"Identifier\",\n",
    "                        hover_name=\"Name\", zoom=3, opacity=.1,\n",
    "                        color_discrete_sequence=px.colors.qualitative.Dark24)\n",
    "\n",
    "fig.update_layout(mapbox_style=\"open-street-map\")\n",
    "fig.update_layout(title=\"Bird sightings\")\n",
    "fig.update_layout(margin={\"r\":0,\"t\":30,\"l\":0,\"b\":0})\n"
   ]
  },
  {
   "cell_type": "code",
   "execution_count": null,
   "metadata": {
    "scrolled": true
   },
   "outputs": [],
   "source": [
    "sns.set(style='whitegrid', palette=\"bright\", font_scale=1.2)\n",
    "sns.lmplot(x='Long', y='Lat', data=birds, hue='Name', height=5, aspect=1.5, scatter_kws={\"s\": 10})"
   ]
  },
  {
   "cell_type": "markdown",
   "metadata": {},
   "source": [
    "From here down was all stuff I was playing with.  It can be deleted later."
   ]
  },
  {
   "cell_type": "code",
   "execution_count": null,
   "metadata": {},
   "outputs": [],
   "source": [
    "\n",
    "\n",
    "scl = [0,\"rgb(150,0,90)\"],[0.125,\"rgb(0, 0, 200)\"],[0.25,\"rgb(0, 25, 255)\"],\\\n",
    "[0.375,\"rgb(0, 152, 255)\"],[0.5,\"rgb(44, 255, 150)\"],[0.625,\"rgb(151, 255, 0)\"],\\\n",
    "[0.75,\"rgb(255, 234, 0)\"],[0.875,\"rgb(255, 111, 0)\"],[1,\"rgb(255, 0, 0)\"]\n",
    "\n",
    "fig = go.Figure(data=go.Scattergeo(\n",
    "    lat = birds['Lat'],\n",
    "    lon = birds['Long'],\n",
    "    text = birds['Name'].astype(str),\n",
    "    marker = dict(\n",
    "        color = birds['Identifier'],\n",
    "        colorscale = scl,\n",
    "        reversescale = True,\n",
    "        opacity = 0.7,\n",
    "        size = 2,\n",
    "        colorbar = dict(\n",
    "            titleside = \"right\",\n",
    "            outlinecolor = \"rgba(68, 68, 68, 0)\",\n",
    "            ticks = \"outside\",\n",
    "            showticksuffix = \"last\",\n",
    "            dtick = 0.1\n",
    "        )\n",
    "    )\n",
    "))\n",
    "\n",
    "fig.update_layout(\n",
    "    geo = dict(\n",
    "        scope = 'north america',\n",
    "        showland = True,\n",
    "        landcolor = \"rgb(212, 212, 212)\",\n",
    "        subunitcolor = \"rgb(255, 255, 255)\",\n",
    "        countrycolor = \"rgb(255, 255, 255)\",\n",
    "        showlakes = True,\n",
    "        lakecolor = \"rgb(255, 255, 255)\",\n",
    "        showsubunits = True,\n",
    "        showcountries = True,\n",
    "        resolution = 50,\n",
    "        projection = dict(\n",
    "            type = 'conic conformal',\n",
    "            rotation_lon = -100\n",
    "        ),\n",
    "        lonaxis = dict(\n",
    "            showgrid = True,\n",
    "            gridwidth = 0.5,\n",
    "            range= [ -140.0, -55.0 ],\n",
    "            dtick = 5\n",
    "        ),\n",
    "        lataxis = dict (\n",
    "            showgrid = True,\n",
    "            gridwidth = 0.5,\n",
    "            range= [ 20.0, 60.0 ],\n",
    "            dtick = 5\n",
    "        )\n",
    "    ),\n",
    "    title='Bird Migration',\n",
    ")\n",
    "fig.show()"
   ]
  },
  {
   "cell_type": "code",
   "execution_count": null,
   "metadata": {},
   "outputs": [],
   "source": [
    "birds"
   ]
  },
  {
   "cell_type": "code",
   "execution_count": null,
   "metadata": {},
   "outputs": [],
   "source": [
    "def location_map(birds, color, title):\n",
    "    fig = px.scatter_mapbox(birds, lat=\"Lat\", lon=\"Long\",\n",
    "                            color=color,\n",
    "                            size_max=5,\n",
    "                            zoom=8, \n",
    "                            height=500,\n",
    "                            title = title,\n",
    "                            hoverdata={'Long': True,\n",
    "                                       'Lat': True,\n",
    "                                       'Timestamp': True,\n",
    "                                      }\n",
    "                           )\n",
    "    fig.update.layout(mapbox_style=\"open-street-map\")\n",
    "    fig.show()"
   ]
  },
  {
   "cell_type": "code",
   "execution_count": null,
   "metadata": {
    "scrolled": true
   },
   "outputs": [],
   "source": [
    "temperature = pd.read_csv('global_temp_data.csv', encoding='ISO-8859-1')\n",
    "temperature.replace(to_replace=[-9999, -99], value=np.nan, inplace=True)\n",
    "temperature.fillna(method='ffill', inplace=True)\n",
    "temperature.fillna(method='bfill', inplace=True)\n",
    "temperature = temperature.round(2)\n",
    "temperature"
   ]
  },
  {
   "cell_type": "code",
   "execution_count": null,
   "metadata": {},
   "outputs": [],
   "source": [
    "print(temperature.head())"
   ]
  },
  {
   "cell_type": "code",
   "execution_count": null,
   "metadata": {},
   "outputs": [],
   "source": [
    "sns.set(style='whitegrid', font_scale=1.2)\n",
    "sns.lmplot(x='Long', y='Lat', data=birds, hue='Name', height=5, aspect=1.5)"
   ]
  },
  {
   "cell_type": "code",
   "execution_count": null,
   "metadata": {},
   "outputs": [],
   "source": [
    "from sklearn.linear_model import LogisticRegression"
   ]
  },
  {
   "cell_type": "code",
   "execution_count": null,
   "metadata": {},
   "outputs": [],
   "source": [
    "import cartopy.crs as ccrs \n",
    "import cartopy.feature as cfeature "
   ]
  },
  {
   "cell_type": "markdown",
   "metadata": {},
   "source": [
    "bird_names = pd.unique(birds.Name) \n",
    "\n",
    "# To move forward, we need to specify a \n",
    "# specific projection that we're interested \n",
    "# in using. \n",
    "proj = ccrs.Mercator() \n",
    "\n",
    "plt.figure(figsize=(10,10)) \n",
    "ax = plt.axes(projection=proj) \n",
    "fig, ax = plt.subplots(figsize=(10, 6), subplot_kw={'projection': proj, 'aspect': 'auto'}) \n",
    "ax.add_feature(cfeature.LAND) \n",
    "ax.add_feature(cfeature.OCEAN) \n",
    "ax.add_feature(cfeature.COASTLINE) \n",
    "ax.add_feature(cfeature.BORDERS, linestyle=':') \n",
    "for name in bird_names: \n",
    "\tix = birds['Name'] == name \n",
    "\tx,y = birds.Long[ix], birds.Lat[ix] \n",
    "\tax.plot(x,y,'.', transform=ccrs.Geodetic(), label=name) \n",
    "plt.legend(loc=\"upper left\") \n",
    "plt.show() "
   ]
  },
  {
   "cell_type": "code",
   "execution_count": null,
   "metadata": {},
   "outputs": [],
   "source": []
  }
 ],
 "metadata": {
  "colab": {
   "provenance": []
  },
  "kernelspec": {
   "display_name": "Python 3 (ipykernel)",
   "language": "python",
   "name": "python3"
  },
  "language_info": {
   "codemirror_mode": {
    "name": "ipython",
    "version": 3
   },
   "file_extension": ".py",
   "mimetype": "text/x-python",
   "name": "python",
   "nbconvert_exporter": "python",
   "pygments_lexer": "ipython3",
   "version": "3.9.13"
  }
 },
 "nbformat": 4,
 "nbformat_minor": 1
}
